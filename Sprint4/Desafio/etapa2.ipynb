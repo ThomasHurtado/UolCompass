{
 "cells": [
  {
   "cell_type": "code",
   "execution_count": 29,
   "id": "0b9770e3",
   "metadata": {},
   "outputs": [],
   "source": [
    "import boto3\n",
    "from botocore.exceptions import ClientError\n",
    "import logging\n",
    "import os\n",
    "import pandas as pd\n",
    "from dotenv import load_dotenv"
   ]
  },
  {
   "cell_type": "code",
   "execution_count": 30,
   "id": "ad99dd9d",
   "metadata": {},
   "outputs": [
    {
     "data": {
      "text/plain": [
       "True"
      ]
     },
     "execution_count": 30,
     "metadata": {},
     "output_type": "execute_result"
    }
   ],
   "source": [
    "load_dotenv('.env')"
   ]
  },
  {
   "cell_type": "code",
   "execution_count": 31,
   "id": "46ca0750",
   "metadata": {},
   "outputs": [],
   "source": [
    "s3 = boto3.client('s3',\n",
    "   aws_access_key_id= os.getenv('aws_access_key_id'),\n",
    "   aws_secret_access_key=os.getenv('aws_secret_access_key'),\n",
    "   aws_session_token=os.getenv('aws_session_token'),\n",
    "   region_name='us-east-1'\n",
    ")"
   ]
  },
  {
   "cell_type": "code",
   "execution_count": 32,
   "id": "32700681",
   "metadata": {},
   "outputs": [],
   "source": [
    "bucket_name = 'desafio-thomas'\n",
    "s3_file_name = 'dados.csv'\n",
    "objeto = s3.get_object(Bucket=bucket_name, Key=s3_file_name)\n",
    "database = pd.read_csv(objeto['Body'], sep=';')"
   ]
  },
  {
   "cell_type": "code",
   "execution_count": 33,
   "id": "ba67b0ad",
   "metadata": {},
   "outputs": [],
   "source": [
    "database = database.drop(['Revenda', 'CNPJ da Revenda', 'Nome da Rua', 'Numero Rua', 'Complemento', 'Bairro', 'Cep'], axis=1)"
   ]
  },
  {
   "cell_type": "markdown",
   "id": "c4583a5d",
   "metadata": {},
   "source": [
    "## Media de Valor de Venda nas regioes SE e NE"
   ]
  },
  {
   "cell_type": "code",
   "execution_count": 34,
   "id": "d6c104d7",
   "metadata": {},
   "outputs": [],
   "source": [
    "database['Valor de Venda'] = database['Valor de Venda'].str.replace(r',', '.', regex=False)\n",
    "database['Valor de Venda'] = database['Valor de Venda'].astype(float)"
   ]
  },
  {
   "cell_type": "code",
   "execution_count": 35,
   "id": "d5c79fa1",
   "metadata": {},
   "outputs": [],
   "source": [
    "filter1 = database[['Regiao - Sigla', 'Valor de Venda']].loc[(database['Regiao - Sigla'] == 'SE') | (database['Regiao - Sigla'] == 'NE')].groupby('Regiao - Sigla').mean()\\\n",
    ".to_csv('media_regioes.csv', index=False, encoding='utf-8-sig')"
   ]
  },
  {
   "cell_type": "code",
   "execution_count": 36,
   "id": "35b2dae5",
   "metadata": {},
   "outputs": [],
   "source": [
    "file_name = 'media_regioes.csv'\n",
    "s3_path = 'media_regioes.csv'\n",
    "\n",
    "try:\n",
    "    s3.upload_file(file_name, bucket_name, s3_path)\n",
    "except ClientError as e:\n",
    "    logging.error(e)"
   ]
  },
  {
   "cell_type": "markdown",
   "id": "4b1cdaad",
   "metadata": {},
   "source": [
    "## Quantidade de vezes que foi registrado 'Gasolina' em cada estado"
   ]
  },
  {
   "cell_type": "code",
   "execution_count": 37,
   "id": "838a36f6",
   "metadata": {},
   "outputs": [],
   "source": [
    "filter2 = database[['Regiao - Sigla', 'Produto']].loc[database['Produto'] == 'GASOLINA'].groupby('Regiao - Sigla').count().to_csv('gasolina_por_regiao.csv', encoding='utf-8-sig')"
   ]
  },
  {
   "cell_type": "code",
   "execution_count": 38,
   "id": "772ffde1",
   "metadata": {},
   "outputs": [],
   "source": [
    "file_name = 'gasolina_por_regiao.csv'\n",
    "s3_path = 'gasolina_por_regiao.csv'\n",
    "\n",
    "try:\n",
    "    s3.upload_file(file_name, bucket_name, s3_path)\n",
    "except ClientError as e:\n",
    "    logging.error(e)"
   ]
  },
  {
   "cell_type": "markdown",
   "id": "012d338b",
   "metadata": {},
   "source": [
    "## Os 10 maiores lucros por litro (Preço de compra - preço de venda)"
   ]
  },
  {
   "cell_type": "code",
   "execution_count": 39,
   "id": "198d0170",
   "metadata": {},
   "outputs": [],
   "source": [
    "filter = database.copy()\n",
    "filter['Valor de Compra'] = filter['Valor de Compra'].str.replace(r',', '.', regex=False)\n",
    "filter['Valor de Compra'] = filter['Valor de Compra'].astype(float)"
   ]
  },
  {
   "cell_type": "code",
   "execution_count": 40,
   "id": "fdcfcf47",
   "metadata": {},
   "outputs": [],
   "source": [
    "filter = filter.dropna(subset=['Valor de Venda', 'Valor de Compra'])\n",
    "filter = filter.drop_duplicates()"
   ]
  },
  {
   "cell_type": "code",
   "execution_count": 41,
   "id": "e502993a",
   "metadata": {},
   "outputs": [],
   "source": [
    "filter['Lucro'] = filter['Valor de Venda'] - filter['Valor de Compra']"
   ]
  },
  {
   "cell_type": "code",
   "execution_count": 42,
   "id": "2117e4f1",
   "metadata": {},
   "outputs": [],
   "source": [
    "filter3 = filter[['Estado - Sigla', 'Municipio', 'Produto', 'Lucro']].sort_values('Lucro', ascending=False).head(10).to_csv('top_10_lucro.csv', index=False, encoding='utf-8-sig')"
   ]
  },
  {
   "cell_type": "code",
   "execution_count": 43,
   "id": "31fe294f",
   "metadata": {},
   "outputs": [],
   "source": [
    "file_name = 'top_10_lucro.csv'\n",
    "s3_path = 'top_10_lucro.csv'\n",
    "\n",
    "try:\n",
    "    s3.upload_file(file_name, bucket_name, s3_path)\n",
    "except ClientError as e:\n",
    "    logging.error(e)"
   ]
  }
 ],
 "metadata": {
  "kernelspec": {
   "display_name": "base",
   "language": "python",
   "name": "python3"
  },
  "language_info": {
   "codemirror_mode": {
    "name": "ipython",
    "version": 3
   },
   "file_extension": ".py",
   "mimetype": "text/x-python",
   "name": "python",
   "nbconvert_exporter": "python",
   "pygments_lexer": "ipython3",
   "version": "3.12.7"
  }
 },
 "nbformat": 4,
 "nbformat_minor": 5
}
