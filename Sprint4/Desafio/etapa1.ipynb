{
 "cells": [
  {
   "cell_type": "code",
   "execution_count": 54,
   "id": "f3cad773",
   "metadata": {},
   "outputs": [],
   "source": [
    "import boto3\n",
    "from botocore.exceptions import ClientError\n",
    "import logging\n",
    "import os\n",
    "from dotenv import load_dotenv"
   ]
  },
  {
   "cell_type": "code",
   "execution_count": 55,
   "id": "fa178b07",
   "metadata": {},
   "outputs": [
    {
     "data": {
      "text/plain": [
       "True"
      ]
     },
     "execution_count": 55,
     "metadata": {},
     "output_type": "execute_result"
    }
   ],
   "source": [
    "load_dotenv('.env')"
   ]
  },
  {
   "cell_type": "code",
   "execution_count": 56,
   "id": "b64debf0",
   "metadata": {},
   "outputs": [],
   "source": [
    "s3 = boto3.client('s3',\n",
    "   aws_access_key_id= os.getenv('aws_access_key_id'),\n",
    "   aws_secret_access_key=os.getenv('aws_secret_access_key'),\n",
    "   aws_session_token=os.getenv('aws_session_token'),\n",
    "   region_name='us-east-1'\n",
    ")"
   ]
  },
  {
   "cell_type": "code",
   "execution_count": 57,
   "id": "65e81812",
   "metadata": {},
   "outputs": [],
   "source": [
    "bucket_name = 'desafio-thomas'\n",
    "file_name = 'ca-2004-01.csv'\n",
    "s3_path = 'dados.csv'"
   ]
  },
  {
   "cell_type": "code",
   "execution_count": 58,
   "id": "93415adf",
   "metadata": {},
   "outputs": [],
   "source": [
    "try:\n",
    "    s3.upload_file(file_name, bucket_name, s3_path)\n",
    "except ClientError as e:\n",
    "    logging.error(e)"
   ]
  }
 ],
 "metadata": {
  "kernelspec": {
   "display_name": "base",
   "language": "python",
   "name": "python3"
  },
  "language_info": {
   "codemirror_mode": {
    "name": "ipython",
    "version": 3
   },
   "file_extension": ".py",
   "mimetype": "text/x-python",
   "name": "python",
   "nbconvert_exporter": "python",
   "pygments_lexer": "ipython3",
   "version": "3.12.7"
  }
 },
 "nbformat": 4,
 "nbformat_minor": 5
}
