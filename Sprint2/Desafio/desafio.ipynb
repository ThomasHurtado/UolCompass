{
 "cells": [
  {
   "cell_type": "code",
   "execution_count": null,
   "id": "0f8f1370",
   "metadata": {},
   "outputs": [],
   "source": [
    "import pandas as pd\n",
    "import matplotlib.pyplot as plt"
   ]
  },
  {
   "cell_type": "code",
   "execution_count": null,
   "id": "e2195aae",
   "metadata": {},
   "outputs": [],
   "source": [
    "dados = pd.read_csv('googleplaystore.csv')"
   ]
  },
  {
   "cell_type": "markdown",
   "id": "90784e2e",
   "metadata": {},
   "source": [
    "## Exercicio 1\n"
   ]
  },
  {
   "cell_type": "code",
   "execution_count": null,
   "id": "d125cc9e",
   "metadata": {},
   "outputs": [],
   "source": [
    "dataset = dados.drop_duplicates()"
   ]
  },
  {
   "cell_type": "markdown",
   "id": "01cb773c",
   "metadata": {},
   "source": [
    "## Exercicio 2"
   ]
  },
  {
   "cell_type": "code",
   "execution_count": null,
   "id": "615bfa51",
   "metadata": {},
   "outputs": [],
   "source": [
    "dataset1 = dataset.copy()\n",
    "dataset1['Installs_Value'] = dataset['Installs'].str.replace(r',', '', regex=False)\n",
    "dataset1['Installs_Value'] = dataset1['Installs_Value'].str.extract(r'(\\d+\\.?\\d*)')\n",
    "dataset1['Installs_Value'] = dataset1['Installs_Value'].astype(float)\n",
    "dataset1['Installs_Value'] = dataset1['Installs_Value'].fillna(0)\n",
    "filter1 = dataset1[['App', 'Installs_Value']].groupby(['App']).sum().sort_values('Installs_Value', ascending=False).head()\n",
    "\n",
    "filter1.plot(kind='bar', legend=False)\n",
    "plt.title('Top 5 Apps por Número de Instalações')\n",
    "plt.ylabel('Instalações')\n",
    "plt.xlabel('Aplicativos')\n",
    "plt.show()"
   ]
  },
  {
   "cell_type": "markdown",
   "id": "859b0eb4",
   "metadata": {},
   "source": [
    "## Exercicio 3"
   ]
  },
  {
   "cell_type": "code",
   "execution_count": null,
   "id": "624862a1",
   "metadata": {},
   "outputs": [],
   "source": [
    "filter2 = dataset[['App', 'Category']].groupby(['Category']).count()\n",
    "\n",
    "filter2 = filter2.rename(columns={'App': 'Total_Apps'})\n",
    "\n",
    "plt.figure(figsize=(8, 8))\n",
    "plt.pie(filter2['Total_Apps'], labels=filter2.index, autopct='%1.1f%%')\n",
    "plt.title('Distribuição de Apps por Categoria')\n",
    "plt.axis('equal')\n",
    "plt.tight_layout()\n",
    "plt.show()\n"
   ]
  },
  {
   "cell_type": "markdown",
   "id": "c72be426",
   "metadata": {},
   "source": [
    "## Exercicio 4"
   ]
  },
  {
   "cell_type": "code",
   "execution_count": null,
   "id": "ec3b2b6c",
   "metadata": {},
   "outputs": [],
   "source": [
    "dataset1['Price_Value'] = dataset['Price'].str.extract(r'\\$(\\d+\\.?\\d*)')\n",
    "dataset1['Price_Value'] = dataset1['Price_Value'].astype(float)\n",
    "dataset1[['App', 'Price_Value']].sort_values('Price_Value', ascending=False).head(1)"
   ]
  },
  {
   "cell_type": "markdown",
   "id": "1f8417a4",
   "metadata": {},
   "source": [
    "## Exercicio 5"
   ]
  },
  {
   "cell_type": "code",
   "execution_count": null,
   "id": "81690876",
   "metadata": {},
   "outputs": [],
   "source": [
    "dataset[['App', 'Content Rating']].loc[dataset['Content Rating'] == 'Mature 17+'].groupby(['Content Rating']).count()"
   ]
  },
  {
   "cell_type": "markdown",
   "id": "b4137c1d",
   "metadata": {},
   "source": [
    "## Exercicio 6"
   ]
  },
  {
   "cell_type": "code",
   "execution_count": null,
   "id": "a89cea97",
   "metadata": {},
   "outputs": [],
   "source": [
    "dataset1['Review_Value'] = dataset['Reviews'].str.extract(r'(\\d+\\.?\\d*)')\n",
    "dataset1['Review_Value'] = dataset1['Review_Value'].astype(float)\n",
    "dataset1[['App', 'Review_Value']].groupby(['App']).sum().sort_values('Review_Value', ascending=False).head(10)"
   ]
  },
  {
   "cell_type": "markdown",
   "id": "4d578d95",
   "metadata": {},
   "source": [
    "## Exercicio 7"
   ]
  },
  {
   "cell_type": "code",
   "execution_count": null,
   "id": "564ce2c1",
   "metadata": {},
   "outputs": [],
   "source": [
    "lista1 = dataset1[['Review_Value','Category']].groupby(['Category']).sum().sort_values('Review_Value', ascending=False).head().reset_index().to_dict(orient='records')\n",
    "lista1"
   ]
  },
  {
   "cell_type": "code",
   "execution_count": null,
   "id": "90fb9ae5",
   "metadata": {},
   "outputs": [],
   "source": [
    "filter7 = dataset1[['Category', 'Installs_Value']].groupby(['Category']).sum().sort_values('Installs_Value', ascending=False).head().reset_index().to_dict(orient='records')\n",
    "i = 1\n",
    "print('Catogorias com mais instalações')\n",
    "for linha in filter7:\n",
    "    print(f'{i} - Categoria {linha['Category']} com {linha['Installs_Value']} instalações')\n",
    "    i += 1"
   ]
  },
  {
   "cell_type": "markdown",
   "id": "37c9bddc",
   "metadata": {},
   "source": [
    "## Exercicio 8"
   ]
  },
  {
   "cell_type": "code",
   "execution_count": null,
   "id": "92e295b7",
   "metadata": {},
   "outputs": [],
   "source": [
    "filter8 = dataset1[['Category', 'Review_Value']].groupby(['Category']).sum().sort_values('Review_Value', ascending=False).head()\n",
    "filter8.plot(kind='bar', legend=False)\n",
    "plt.title('Top 5 categorias por número de review')\n",
    "plt.ylabel('Reviwes')\n",
    "plt.xlabel('Categorias')\n",
    "plt.show()"
   ]
  },
  {
   "cell_type": "code",
   "execution_count": null,
   "id": "acc1ccdf",
   "metadata": {},
   "outputs": [],
   "source": [
    "filter7 = dataset1[['Category', 'Installs_Value']].groupby(['Category']).sum().sort_values('Installs_Value', ascending=False).head()\n",
    "filter7.plot(kind='bar', legend=False)\n",
    "plt.title('Top 5 categorias por número de instalação')\n",
    "plt.ylabel('Instalações')\n",
    "plt.xlabel('Categorias')\n",
    "plt.show()\n"
   ]
  }
 ],
 "metadata": {
  "kernelspec": {
   "display_name": "base",
   "language": "python",
   "name": "python3"
  },
  "language_info": {
   "codemirror_mode": {
    "name": "ipython",
    "version": 3
   },
   "file_extension": ".py",
   "mimetype": "text/x-python",
   "name": "python",
   "nbconvert_exporter": "python",
   "pygments_lexer": "ipython3",
   "version": "3.12.7"
  }
 },
 "nbformat": 4,
 "nbformat_minor": 5
}
