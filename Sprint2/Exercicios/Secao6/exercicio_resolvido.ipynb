{
 "cells": [
  {
   "cell_type": "markdown",
   "id": "aa9d83b4",
   "metadata": {},
   "source": [
    "# Estabelecendo a base de dados"
   ]
  },
  {
   "cell_type": "code",
   "execution_count": 21,
   "id": "281f7aa5",
   "metadata": {},
   "outputs": [],
   "source": [
    "with open('actors.csv', encoding='utf-8') as a:\n",
    "    next(a)\n",
    "    listaCompleta = []\n",
    "    for linha in a:\n",
    "        linha = linha.strip()\n",
    "        if linha.startswith('\"'):  \n",
    "            partes = linha.split('\"')  \n",
    "            nome = partes[1]  \n",
    "            resto = partes[2].lstrip(',').split(',')\n",
    "        else:\n",
    "            partes = linha.split(',')\n",
    "            nome = partes[0]\n",
    "            resto = partes[1:]\n",
    "\n",
    "        if len(resto) >= 5:\n",
    "            listaCompleta.append({\n",
    "                'actor': nome.strip(),\n",
    "                'tgross': resto[0].strip(),\n",
    "                'movies': resto[1].strip(),\n",
    "                'avg': resto[2].strip(),\n",
    "                '1movie': resto[3].strip(),\n",
    "                'gross': resto[4].strip()\n",
    "            })"
   ]
  },
  {
   "cell_type": "markdown",
   "id": "c22a2dc9",
   "metadata": {},
   "source": [
    "# Etapa 1"
   ]
  },
  {
   "cell_type": "code",
   "execution_count": 22,
   "id": "e7aac1f7",
   "metadata": {},
   "outputs": [],
   "source": [
    "def maisFilmes(lista):\n",
    "    ator = sorted(listaCompleta, key=lambda x: x['movies'], reverse=True)[0]\n",
    "    with open ('Etapa1.txt', 'w') as e:\n",
    "        e.write(f\"Ator com mais filmes é o(a) {ator['actor']} com {ator['movies']} filmes\")\n",
    "\n",
    "maisFilmes(listaCompleta)"
   ]
  },
  {
   "cell_type": "markdown",
   "id": "eea49909",
   "metadata": {},
   "source": [
    "# Etapa 2"
   ]
  },
  {
   "cell_type": "code",
   "execution_count": 23,
   "id": "1bbe85ba",
   "metadata": {},
   "outputs": [],
   "source": [
    "from functools import reduce\n",
    "\n",
    "def mediaReceita(lista):\n",
    "    soma = reduce(lambda soma, ator: soma + float(ator['gross']), lista, 0)\n",
    "    media = soma/len(lista)\n",
    "    with open ('Etapa2.txt', 'w') as e:\n",
    "        e.write(f\"A media das receitas dos filmes: {round(media, 2)}\")\n",
    "\n",
    "mediaReceita(listaCompleta)\n"
   ]
  },
  {
   "cell_type": "markdown",
   "id": "98b431f6",
   "metadata": {},
   "source": [
    "# Etapa 3"
   ]
  },
  {
   "cell_type": "code",
   "execution_count": 24,
   "id": "fa1763fe",
   "metadata": {},
   "outputs": [],
   "source": [
    "def maiorMedia(lista):\n",
    "    ator = sorted(listaCompleta, key=lambda x: float(x['avg']), reverse=True)[0]\n",
    "    with open ('Etapa3.txt', 'w') as e:\n",
    "        e.write(f\"Ator com maior media é o(a) {ator['actor']} com uma media de {ator['avg']} \")\n",
    "\n",
    "maiorMedia(listaCompleta)"
   ]
  },
  {
   "cell_type": "markdown",
   "id": "6b860ba5",
   "metadata": {},
   "source": [
    "# Etapa 4"
   ]
  },
  {
   "cell_type": "code",
   "execution_count": 25,
   "id": "3271cb41",
   "metadata": {},
   "outputs": [],
   "source": [
    "def filmeContagem(lista):\n",
    "    contagem = {}\n",
    "    for linha in lista:\n",
    "        filme = linha['1movie']\n",
    "        contagem[filme] = contagem.get(filme, 0) + 1\n",
    "    filmes = [{'movie': filme, 'contagem': qtd} for filme, qtd in contagem.items()]\n",
    "    lista2 = sorted(filmes, key=lambda x: x['contagem'], reverse=True)\n",
    "    with open ('Etapa4.txt', 'w') as e:\n",
    "        i = 1\n",
    "        for l in lista2:\n",
    "            e.write(f\"{i} - O filme {l['movie']} apareceu {l['contagem']} vez(es) no dataset\\n\")\n",
    "            i = i + 1\n",
    "    e.close()\n",
    "    \n",
    "filmeContagem(listaCompleta)\n",
    "\n"
   ]
  },
  {
   "cell_type": "markdown",
   "id": "15ea365f",
   "metadata": {},
   "source": [
    "# Etapa 5"
   ]
  },
  {
   "cell_type": "code",
   "execution_count": 26,
   "id": "a1475152",
   "metadata": {},
   "outputs": [],
   "source": [
    "def autorBilheteria(lista):\n",
    "    lista2 = sorted(lista, key=lambda x: float(x['tgross']), reverse=True)\n",
    "    with open ('Etapa5.txt', 'w') as e:\n",
    "        for linha in lista2:\n",
    "            e.write(f\"{linha['actor']} - {linha['tgross']}\\n\")\n",
    "    e.close()\n",
    "\n",
    "autorBilheteria(listaCompleta)\n",
    "        "
   ]
  }
 ],
 "metadata": {
  "kernelspec": {
   "display_name": "base",
   "language": "python",
   "name": "python3"
  },
  "language_info": {
   "codemirror_mode": {
    "name": "ipython",
    "version": 3
   },
   "file_extension": ".py",
   "mimetype": "text/x-python",
   "name": "python",
   "nbconvert_exporter": "python",
   "pygments_lexer": "ipython3",
   "version": "3.12.7"
  }
 },
 "nbformat": 4,
 "nbformat_minor": 5
}
