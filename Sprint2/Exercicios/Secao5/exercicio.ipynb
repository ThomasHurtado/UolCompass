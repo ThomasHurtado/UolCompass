{
 "cells": [
  {
   "cell_type": "markdown",
   "id": "84472cb2",
   "metadata": {},
   "source": [
    "## Exercicio 20"
   ]
  },
  {
   "cell_type": "code",
   "execution_count": null,
   "id": "9ef0420a",
   "metadata": {},
   "outputs": [],
   "source": [
    "with open('number.txt') as f:\n",
    "    numeros = list(map(int,f))\n",
    "    \n",
    "pares = list(filter(lambda x: x % 2 == 0, numeros))\n",
    "maiores = sorted(pares, reverse=True)[:5]\n",
    "\n",
    "print(maiores)\n",
    "print(sum(maiores))\n",
    "    "
   ]
  },
  {
   "cell_type": "markdown",
   "id": "ac907548",
   "metadata": {},
   "source": [
    "## Exercicio 21"
   ]
  },
  {
   "cell_type": "code",
   "execution_count": null,
   "id": "e1d835a0",
   "metadata": {},
   "outputs": [],
   "source": [
    "def conta_vogais(texto:str)-> int:\n",
    "    return len(list(filter(lambda c: c.lower() in 'aeiou', texto)))"
   ]
  },
  {
   "cell_type": "markdown",
   "id": "b5dedb5b",
   "metadata": {},
   "source": [
    "## Exercicio 22"
   ]
  },
  {
   "cell_type": "code",
   "execution_count": null,
   "id": "24a67356",
   "metadata": {},
   "outputs": [],
   "source": [
    "from functools import reduce\n",
    "\n",
    "def calcula_saldo(lancamentos) -> float:\n",
    "    valores = map(lambda x: x[0] if x[1] == 'C' else -x[0], lancamentos)\n",
    "    soma = reduce(lambda soma, i: soma + i, valores, 0)\n",
    "    return soma\n",
    "    \n",
    "lancamentos = [\n",
    "    (200,'D'),\n",
    "    (300,'C'),\n",
    "    (100,'C')\n",
    "]\n",
    "\n",
    "print(calcula_saldo(lancamentos))"
   ]
  },
  {
   "cell_type": "markdown",
   "id": "842a9fcc",
   "metadata": {},
   "source": [
    "## Exercicio 23"
   ]
  },
  {
   "cell_type": "code",
   "execution_count": null,
   "id": "055c30c6",
   "metadata": {},
   "outputs": [],
   "source": [
    "def calcular_valor_maximo(operadores,operandos) -> float:\n",
    "    operacoes = map(\n",
    "        lambda x: x[1][0] + x[1][1] if x[0] == '+' else\n",
    "                  x[1][0] - x[1][1] if x[0] == '-' else\n",
    "                  x[1][0] * x[1][1] if x[0] == '*' else\n",
    "                  x[1][0] / x[1][1] if x[0] == '/' else\n",
    "                  x[1][0] % x[1][1] if x[0] == '%' else None,\n",
    "        zip(operadores, operandos)\n",
    "    )\n",
    "    return max(operacoes)\n",
    "    \n",
    "\n",
    "operadores = ['+','-','*','/','+']\n",
    "operandos  = [(3,6), (-7,4.9), (8,-8), (10,2), (8,4)]\n",
    "\n",
    "print(calcular_valor_maximo(operadores, operandos))"
   ]
  },
  {
   "cell_type": "markdown",
   "id": "96e90182",
   "metadata": {},
   "source": [
    "## Exercicio 24"
   ]
  },
  {
   "cell_type": "code",
   "execution_count": null,
   "id": "d4250bd3",
   "metadata": {},
   "outputs": [],
   "source": [
    "with open('estudantes.csv') as e:\n",
    "    estudantes = list(map(\n",
    "        lambda linha: {'nome': linha.strip().split(',')[0], 'notas': list(map(int, linha.strip().split(',')[1:6]))},\n",
    "        e\n",
    "    ))\n",
    "    \n",
    "def apresentacao(estudante):\n",
    "    nome = estudante['nome']\n",
    "    notas = sorted(estudante['notas'], reverse = True)[:3]\n",
    "    media = round(sum(notas)/3, 2)\n",
    "    return print(f'Nome: {nome} Notas: {notas} Média: {media}')\n",
    "    \n",
    "def todos_estudantes(estudantes):\n",
    "    for e in estudantes:\n",
    "        apresentacao(e)\n",
    "\n",
    "estudantes.sort(key=lambda e: e['nome'])\n",
    "todos_estudantes(estudantes)\n"
   ]
  },
  {
   "cell_type": "markdown",
   "id": "b72e2617",
   "metadata": {},
   "source": [
    "## Exercicio 25"
   ]
  },
  {
   "cell_type": "code",
   "execution_count": null,
   "id": "f8aa73f0",
   "metadata": {},
   "outputs": [],
   "source": [
    "from functools import reduce\n",
    "\n",
    "def maiores_que_media(conteudo:dict)->list:\n",
    "    soma = reduce(lambda soma, item: soma + item[1], conteudo.items(), 0)\n",
    "    media = soma/len(conteudo)\n",
    "    itens = filter(lambda item: item[1] > media, conteudo.items())\n",
    "    return sorted(itens, key=lambda item: item[1])\n",
    "    \n",
    "produtos = {\n",
    "    \"arroz\": 4.99,\n",
    "    \"feijão\": 3.49,\n",
    "    \"macarrão\": 2.99,\n",
    "    \"leite\": 3.29,\n",
    "    \"pão\": 1.99\n",
    "}\n",
    "\n",
    "print(maiores_que_media(produtos))"
   ]
  },
  {
   "cell_type": "markdown",
   "id": "5161573a",
   "metadata": {},
   "source": [
    "## Exercicio 26"
   ]
  },
  {
   "cell_type": "code",
   "execution_count": null,
   "id": "ff1c7454",
   "metadata": {},
   "outputs": [],
   "source": [
    "def pares_ate(n: int):\n",
    "    return (x for x in filter(lambda x: x % 2 == 0, range(2, n+1)))"
   ]
  }
 ],
 "metadata": {
  "kernelspec": {
   "display_name": "base",
   "language": "python",
   "name": "python3"
  },
  "language_info": {
   "codemirror_mode": {
    "name": "ipython",
    "version": 3
   },
   "file_extension": ".py",
   "mimetype": "text/x-python",
   "name": "python",
   "nbconvert_exporter": "python",
   "pygments_lexer": "ipython3",
   "version": "3.12.7"
  }
 },
 "nbformat": 4,
 "nbformat_minor": 5
}
