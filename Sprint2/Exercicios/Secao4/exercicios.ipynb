{
 "cells": [
  {
   "cell_type": "markdown",
   "id": "1c07af61",
   "metadata": {},
   "source": [
    "## Exercicio 15"
   ]
  },
  {
   "cell_type": "code",
   "execution_count": null,
   "id": "eaf84cce",
   "metadata": {},
   "outputs": [],
   "source": [
    "class Passaro():\n",
    "    def __init__(self, animal):\n",
    "        print(animal)\n",
    "        self.voar()\n",
    "        print(f'{animal} emitindo som...')\n",
    "        self.emitir_som()\n",
    "\n",
    "    def voar(self):\n",
    "        return print('Voando...')\n",
    "    \n",
    "    def emitir_som(self):\n",
    "        return 'Som'\n",
    "\n",
    "class Pato(Passaro):\n",
    "    def emitir_som(self):\n",
    "        return print('Quack Quack')\n",
    "\n",
    "class Pardal(Passaro):\n",
    "    def emitir_som(self):\n",
    "        print(\"Piu piu\")\n",
    "\n",
    "pato = Pato('Pato')\n",
    "pardal = Pardal('Pardal')"
   ]
  },
  {
   "cell_type": "markdown",
   "id": "5e60c701",
   "metadata": {},
   "source": [
    "## Exercicio 16"
   ]
  },
  {
   "cell_type": "code",
   "execution_count": null,
   "id": "409ed4bb",
   "metadata": {},
   "outputs": [],
   "source": [
    "class Pessoa:\n",
    "    def __init__(self, id):\n",
    "        self.id = id\n",
    "        self.__nome = None\n",
    "        \n",
    "    def nome(self):\n",
    "        return self.__nome\n",
    "        \n",
    "    def nome(self, novo_nome):\n",
    "        self.__nome = novo_nome"
   ]
  },
  {
   "cell_type": "markdown",
   "id": "422b039b",
   "metadata": {},
   "source": [
    "## Exercicio 17"
   ]
  },
  {
   "cell_type": "code",
   "execution_count": null,
   "id": "146ef23a",
   "metadata": {},
   "outputs": [],
   "source": [
    "class Calculo():\n",
    "    def soma(self, x, y):\n",
    "        return x+y\n",
    "    def sub(self, x, y):\n",
    "        return x-y\n",
    "        \n",
    "c = Calculo()\n",
    "print(f'Somando: 4 + 5 = {c.soma(4,5)}')\n",
    "print(f'Sbtraindo: 4 - 5 = {c.sub(4,5)}')"
   ]
  },
  {
   "cell_type": "markdown",
   "id": "94785baf",
   "metadata": {},
   "source": [
    "## Exercicio 18"
   ]
  },
  {
   "cell_type": "code",
   "execution_count": null,
   "id": "3a8dcb14",
   "metadata": {},
   "outputs": [],
   "source": [
    "class Ordenadora():\n",
    "    def __init__(self, lista):\n",
    "        self.listaBaguncada = lista\n",
    "        \n",
    "    def ordenacaoCrescente(self):\n",
    "        return sorted(self.listaBaguncada)\n",
    "        \n",
    "    def ordenacaoDecrescente(self):\n",
    "        return sorted(self.listaBaguncada, reverse=True)\n",
    "\n",
    "crescente = Ordenadora([3,4,2,1,5])\n",
    "descrescente = Ordenadora([9,7,6,8])\n",
    "\n",
    "print(crescente.ordenacaoCrescente())\n",
    "print(descrescente.ordenacaoDecrescente())"
   ]
  },
  {
   "cell_type": "markdown",
   "id": "8e3c531d",
   "metadata": {},
   "source": [
    "## Exercicio 19"
   ]
  },
  {
   "cell_type": "code",
   "execution_count": null,
   "id": "2e0c6373",
   "metadata": {},
   "outputs": [],
   "source": [
    "class Aviao():\n",
    "    def __init__(self, modelo, velocidade_maxima, capacidade):\n",
    "        self.modelo = modelo\n",
    "        self.velocidade_maxima = velocidade_maxima\n",
    "        self.cor = \"Azul\"\n",
    "        self.capacidade = capacidade\n",
    "\n",
    "    def apresentacao(self):\n",
    "        return print(f'O avião de modelo “{self.modelo}” possui uma velocidade máxima de “{self.velocidade_maxima}”, capacidade para “{self.capacidade}” passageiros e é da cor “{self.cor}”.')\n",
    "\n",
    "a1 = Aviao('BOIENG456', 1500, 400 )\n",
    "a2 = Aviao('Embraer Praetor 600', 863, 14)\n",
    "a3 = Aviao('Antonov An-2', 258, 12)\n",
    "lista = [a1, a2, a3]\n",
    "\n",
    "for i in lista:\n",
    "    i.apresentacao()"
   ]
  }
 ],
 "metadata": {
  "language_info": {
   "name": "python"
  }
 },
 "nbformat": 4,
 "nbformat_minor": 5
}
