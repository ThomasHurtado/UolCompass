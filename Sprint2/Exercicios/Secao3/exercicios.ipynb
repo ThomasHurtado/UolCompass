{
 "cells": [
  {
   "cell_type": "markdown",
   "id": "36659125",
   "metadata": {},
   "source": [
    "## Exercicio 1"
   ]
  },
  {
   "cell_type": "code",
   "execution_count": null,
   "id": "32d2add5",
   "metadata": {},
   "outputs": [],
   "source": [
    "b = []\n",
    "a = [1, 4, 9, 16, 25, 36, 49, 64, 81, 100]\n",
    "for x in a:\n",
    "    if x % 2 != 0:\n",
    "       b.append(x)\n",
    "print(b)"
   ]
  },
  {
   "cell_type": "markdown",
   "id": "17797531",
   "metadata": {},
   "source": [
    "## Exercicio 2"
   ]
  },
  {
   "cell_type": "code",
   "execution_count": null,
   "id": "0864f43e",
   "metadata": {},
   "outputs": [],
   "source": [
    "lista = ['maça', 'arara', 'audio', 'radio', 'radar', 'moto']\n",
    "b = []\n",
    "\n",
    "for x in lista:\n",
    "    b = x[::-1]\n",
    "    if b == x:\n",
    "        print(f'A palavra: {x} é um palíndromo' )\n",
    "    else:\n",
    "        print(f'A palavra: {x} não é um palíndromo')"
   ]
  },
  {
   "cell_type": "markdown",
   "id": "0a31a243",
   "metadata": {},
   "source": [
    "## Exercicio 3"
   ]
  },
  {
   "cell_type": "code",
   "execution_count": null,
   "id": "ca7682c0",
   "metadata": {},
   "outputs": [],
   "source": [
    "primeirosNomes = ['Joao', 'Douglas', 'Lucas', 'José']\n",
    "sobreNomes = ['Soares', 'Souza', 'Silveira', 'Pedreira']\n",
    "idades = [19, 28, 25, 31]\n",
    "\n",
    "for indice, (primeirosNomes, sobreNomes, idades) in enumerate(zip(primeirosNomes, sobreNomes, idades)):\n",
    "    print(f\"{indice} - {primeirosNomes} {sobreNomes} está com {idades} anos\")"
   ]
  },
  {
   "cell_type": "markdown",
   "id": "df7e594a",
   "metadata": {},
   "source": [
    "## Exercicio 4"
   ]
  },
  {
   "cell_type": "code",
   "execution_count": null,
   "id": "4126b9fd",
   "metadata": {},
   "outputs": [],
   "source": [
    "lista = ['abc', 'abc', 'abc', '123', 'abc', '123', '123']\n",
    "lista = list(set(lista))\n",
    "print(lista)"
   ]
  },
  {
   "cell_type": "markdown",
   "id": "1174de7a",
   "metadata": {},
   "source": [
    "## Exercicio 5"
   ]
  },
  {
   "cell_type": "code",
   "execution_count": null,
   "id": "c71507a5",
   "metadata": {},
   "outputs": [],
   "source": [
    "import json\n",
    "\n",
    "with open('person.json', 'r') as arquivo:\n",
    "    dados = json.load(arquivo)\n",
    "    \n",
    "print(dados)"
   ]
  },
  {
   "cell_type": "markdown",
   "id": "5f81ded5",
   "metadata": {},
   "source": [
    "## Exercicio 6"
   ]
  },
  {
   "cell_type": "code",
   "execution_count": null,
   "id": "921f532f",
   "metadata": {},
   "outputs": [],
   "source": [
    "def potencia(list):\n",
    "    for i in range(len(list)):\n",
    "        list[i] = list[i]**2\n",
    "\n",
    "def my_map(list, f):\n",
    "    newlista = list.copy()\n",
    "    f(newlista)\n",
    "    return newlista\n",
    "\n",
    "lista = [1, 2, 3, 4, 5, 6, 7, 8, 9, 10]\n",
    "novalista = my_map(lista, potencia)\n",
    "\n",
    "print(novalista)\n"
   ]
  },
  {
   "cell_type": "markdown",
   "id": "0c4326e1",
   "metadata": {},
   "source": [
    "## Exercicio 7"
   ]
  },
  {
   "cell_type": "code",
   "execution_count": null,
   "id": "a0f2ba65",
   "metadata": {},
   "outputs": [],
   "source": [
    "with open('arquivo_texto.txt', 'r') as arquivo:\n",
    "    dados = arquivo.read()\n",
    "    \n",
    "print(dados, end='')"
   ]
  },
  {
   "cell_type": "markdown",
   "id": "5ece9e9a",
   "metadata": {},
   "source": [
    "## Exercicio 8"
   ]
  },
  {
   "cell_type": "code",
   "execution_count": null,
   "id": "058e8e4c",
   "metadata": {},
   "outputs": [],
   "source": [
    "def imprimir_parametros(*args, **kwargs):\n",
    "    \n",
    "    for i, valor in enumerate(args):\n",
    "        print(f\"{valor}\")\n",
    "\n",
    "    for chave, valor in kwargs.items():\n",
    "        print(f\"{valor}\")\n",
    "        \n",
    "imprimir_parametros(1, 3, 4, 'hello', parametro_nomeado = \"alguma coisa\", x=20)"
   ]
  },
  {
   "cell_type": "markdown",
   "id": "0054332d",
   "metadata": {},
   "source": [
    "## Exercicio 9"
   ]
  },
  {
   "cell_type": "code",
   "execution_count": null,
   "id": "ef23bf43",
   "metadata": {},
   "outputs": [],
   "source": [
    "class Lampada():\n",
    "    def __init__(self, ligada = False):\n",
    "        self.ligada = ligada\n",
    "        \n",
    "    def liga(self):\n",
    "        self.ligada = True\n",
    "        \n",
    "    def desliga(self):\n",
    "        self.ligada = False\n",
    "        \n",
    "    def esta_ligada(self):\n",
    "        return self.ligada\n",
    "        \n",
    "l1 = Lampada()\n",
    "l1.liga()\n",
    "print(f'A lâmpada está ligada? {l1.esta_ligada()}')\n",
    "l1.desliga()\n",
    "print(f'A lâmpada ainda está ligada? {l1.esta_ligada()}')"
   ]
  },
  {
   "cell_type": "markdown",
   "id": "ce2ffda8",
   "metadata": {},
   "source": [
    "## Exercicio 10"
   ]
  },
  {
   "cell_type": "code",
   "execution_count": null,
   "id": "7c243a3e",
   "metadata": {},
   "outputs": [],
   "source": [
    "def soma_numeros(string_numeros):\n",
    "    lista_numeros = string_numeros.split(',')\n",
    "    total = sum(int(numero) for numero in lista_numeros)\n",
    "    return total\n",
    "\n",
    "numeros = \"1,3,4,6,10,76\"\n",
    "\n",
    "resultado = soma_numeros(numeros)\n",
    "print(resultado)"
   ]
  },
  {
   "cell_type": "markdown",
   "id": "c1582fef",
   "metadata": {},
   "source": [
    "## Exercicio 11"
   ]
  },
  {
   "cell_type": "code",
   "execution_count": null,
   "id": "ae68fc77",
   "metadata": {},
   "outputs": [],
   "source": [
    "def dividir_lista(lista):\n",
    "    tamanho = len(lista)\n",
    "    parte = tamanho // 3\n",
    "    return lista[:parte], lista[parte:2*parte], lista[2*parte:]\n",
    "\n",
    "lista = [1, 2, 3, 4, 5, 6, 7, 8, 9, 10, 11, 12]\n",
    "parte1, parte2, parte3 = dividir_lista(lista)\n",
    "print(parte1, parte2, parte3)"
   ]
  },
  {
   "cell_type": "markdown",
   "id": "ce1cfeee",
   "metadata": {},
   "source": [
    "## Exercicio 12"
   ]
  },
  {
   "cell_type": "code",
   "execution_count": null,
   "id": "f9e6882c",
   "metadata": {},
   "outputs": [],
   "source": [
    "speed = {'jan': 47, 'feb': 52, 'march': 47, 'April': 44, 'May': 52, \n",
    "         'June': 53, 'july': 54, 'Aug': 44, 'Sept': 54}\n",
    "\n",
    "valores = list(set(speed.values()))\n",
    "print(valores)\n",
    "    "
   ]
  },
  {
   "cell_type": "markdown",
   "id": "6b4bf9c1",
   "metadata": {},
   "source": [
    "## Exercicio 13"
   ]
  },
  {
   "cell_type": "code",
   "execution_count": null,
   "id": "689b6fb6",
   "metadata": {},
   "outputs": [],
   "source": [
    "import random\n",
    "\n",
    "random_list = random.sample(range(500), 50)\n",
    "\n",
    "lista_ordenada = sorted(random_list)\n",
    "mediana = (lista_ordenada[24] + lista_ordenada[25]) / 2\n",
    "media = sum(random_list)/50\n",
    "valor_minimo = min(random_list)\n",
    "valor_maximo = max(random_list)\n",
    "\n",
    "print(f'Media: {media}, Mediana: {mediana}, Mínimo: {valor_minimo}, Máximo: {valor_maximo}')"
   ]
  },
  {
   "cell_type": "markdown",
   "id": "662c3aad",
   "metadata": {},
   "source": [
    "## Exercicio 14"
   ]
  },
  {
   "cell_type": "code",
   "execution_count": null,
   "id": "ab8148f3",
   "metadata": {},
   "outputs": [],
   "source": [
    "a = [1, 0, 2, 3, 5, 8, 13, 21, 34, 55, 89]\n",
    "lista = a[::-1]\n",
    "print(lista)\n",
    "    "
   ]
  }
 ],
 "metadata": {
  "kernelspec": {
   "display_name": "base",
   "language": "python",
   "name": "python3"
  },
  "language_info": {
   "codemirror_mode": {
    "name": "ipython",
    "version": 3
   },
   "file_extension": ".py",
   "mimetype": "text/x-python",
   "name": "python",
   "nbconvert_exporter": "python",
   "pygments_lexer": "ipython3",
   "version": "3.12.7"
  }
 },
 "nbformat": 4,
 "nbformat_minor": 5
}
